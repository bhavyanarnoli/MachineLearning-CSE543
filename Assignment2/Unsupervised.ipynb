{
 "cells": [
  {
   "cell_type": "markdown",
   "metadata": {},
   "source": [
    "## Unsupervised learning"
   ]
  },
  {
   "cell_type": "markdown",
   "metadata": {},
   "source": [
    "#### 4 Marks ⟩ Do basic data pre-processing on the data and perform PCA (scratch implementation) and tell. What percentage of variance is covered by first principal component, first and second principal component."
   ]
  },
  {
   "cell_type": "code",
   "execution_count": 391,
   "metadata": {},
   "outputs": [],
   "source": [
    "import pandas as pd\n",
    "import numpy as np\n",
    "import matplotlib.pyplot as plt\n",
    "import math"
   ]
  },
  {
   "cell_type": "code",
   "execution_count": 392,
   "metadata": {},
   "outputs": [
    {
     "name": "stdout",
     "output_type": "stream",
     "text": [
      "            Date   Time                                           Location   \n",
      "0     09/17/1908  17:18                                Fort Myer, Virginia  \\\n",
      "1     07/12/1912  06:30                            AtlantiCity, New Jersey   \n",
      "2     08/06/1913    NaN                 Victoria, British Columbia, Canada   \n",
      "3     09/09/1913  18:30                                 Over the North Sea   \n",
      "4     10/17/1913  10:30                         Near Johannisthal, Germany   \n",
      "...          ...    ...                                                ...   \n",
      "5263  05/20/2009  06:30                             Near Madiun, Indonesia   \n",
      "5264  05/26/2009    NaN                  Near Isiro, DemocratiRepubliCongo   \n",
      "5265  06/01/2009  00:15  AtlantiOcean, 570 miles northeast of Natal, Br...   \n",
      "5266  06/07/2009  08:30       Near Port Hope Simpson, Newfoundland, Canada   \n",
      "5267  06/08/2009    NaN                  State of Arunachal Pradesh, India   \n",
      "\n",
      "                             Operator Flight #   \n",
      "0                Military - U.S. Army      NaN  \\\n",
      "1                Military - U.S. Navy      NaN   \n",
      "2                             Private        -   \n",
      "3              Military - German Navy      NaN   \n",
      "4              Military - German Navy      NaN   \n",
      "...                               ...      ...   \n",
      "5263  Military - Indonesian Air Force      NaN   \n",
      "5264                      Service Air      NaN   \n",
      "5265                       Air France      447   \n",
      "5266                       Strait Air      NaN   \n",
      "5267      Military - Indian Air Force      NaN   \n",
      "\n",
      "                                          Route   \n",
      "0                                 Demonstration  \\\n",
      "1                                   Test flight   \n",
      "2                                           NaN   \n",
      "3                                           NaN   \n",
      "4                                           NaN   \n",
      "...                                         ...   \n",
      "5263                           Jakarta - Maduin   \n",
      "5264                               Goma - Isiro   \n",
      "5265                     Rio de Janeiro - Paris   \n",
      "5266  Lourdes de BlanSablon - Port Hope Simpson   \n",
      "5267                         Mechuka for Jorhat   \n",
      "\n",
      "                                  Type Registration cn/In  Aboard  Fatalities   \n",
      "0                     Wright Flyer III          NaN     1     2.0         1.0  \\\n",
      "1                            Dirigible          NaN   NaN     5.0         5.0   \n",
      "2                     Curtiss seaplane          NaN   NaN     1.0         1.0   \n",
      "3               Zeppelin L-1 (airship)          NaN   NaN    20.0        14.0   \n",
      "4               Zeppelin L-2 (airship)          NaN   NaN    30.0        30.0   \n",
      "...                                ...          ...   ...     ...         ...   \n",
      "5263           Lockheed C-130 Hercules       A-1325  1982   112.0        98.0   \n",
      "5264                     Antonov An-26       9Q-CSA  5005     4.0         4.0   \n",
      "5265                   Airbus A330-203       F-GZCP   660   228.0       228.0   \n",
      "5266  Britten-Norman BN-2A-27 Islander      C-FJJR    424     1.0         1.0   \n",
      "5267                     Antonov An-32          NaN   NaN    13.0        13.0   \n",
      "\n",
      "      Ground                                            Summary  \n",
      "0        0.0  During a demonstration flight, a U.S. Army fly...  \n",
      "1        0.0  First U.S. dirigible Akron exploded just offsh...  \n",
      "2        0.0  The first fatal airplane accident in Canada oc...  \n",
      "3        0.0  The airship flew into a thunderstorm and encou...  \n",
      "4        0.0  Hydrogen gas which was being vented was sucked...  \n",
      "...      ...                                                ...  \n",
      "5263     2.0  While on approach, the military transport cras...  \n",
      "5264     NaN  The cargo plane crashed while on approach to I...  \n",
      "5265     0.0  The Airbus went missing over the AtlantiOcean ...  \n",
      "5266     0.0  The air ambulance crashed into hills while att...  \n",
      "5267     0.0  The military transport went missing while en r...  \n",
      "\n",
      "[5268 rows x 13 columns]\n",
      "5268\n"
     ]
    }
   ],
   "source": [
    "file_path = \"archive/Airplane.csv\"\n",
    "\n",
    "# Load the data from the CSV file into a pandas DataFrame\n",
    "data = pd.read_csv(file_path)\n",
    "print(data)\n",
    "print(len(data))"
   ]
  },
  {
   "cell_type": "code",
   "execution_count": 393,
   "metadata": {},
   "outputs": [
    {
     "name": "stdout",
     "output_type": "stream",
     "text": [
      "Index(['Date', 'Time', 'Location', 'Operator', 'Flight #', 'Route', 'Type',\n",
      "       'Registration', 'cn/In', 'Aboard', 'Fatalities', 'Ground', 'Summary'],\n",
      "      dtype='object')\n"
     ]
    }
   ],
   "source": [
    "# Get all the column names\n",
    "columns = data.columns\n",
    "\n",
    "# Print the column names\n",
    "print(columns)\n",
    "# for x in columns:\n",
    "  # print(type(x))\n"
   ]
  },
  {
   "cell_type": "code",
   "execution_count": 394,
   "metadata": {},
   "outputs": [
    {
     "name": "stdout",
     "output_type": "stream",
     "text": [
      "Missing values in each column:\n",
      "Date               0\n",
      "Time            2219\n",
      "Location          20\n",
      "Operator          18\n",
      "Flight #        4199\n",
      "Route           1707\n",
      "Type              27\n",
      "Registration     335\n",
      "cn/In           1228\n",
      "Aboard            22\n",
      "Fatalities        12\n",
      "Ground            22\n",
      "Summary          390\n",
      "dtype: int64\n"
     ]
    }
   ],
   "source": [
    "missing_values_X = data[columns].isnull().sum()\n",
    "\n",
    "# Check for missing values in 'y'\n",
    "\n",
    "print(\"Missing values in each column:\")\n",
    "print(missing_values_X)\n"
   ]
  },
  {
   "cell_type": "markdown",
   "metadata": {},
   "source": [
    "#### Since there are so many values of time which are missing in the rows, replacing it with the median values would be a fair distribution"
   ]
  },
  {
   "cell_type": "code",
   "execution_count": 395,
   "metadata": {},
   "outputs": [],
   "source": [
    "data['Time'] = pd.to_datetime(data['Time'], format='%H:%M', errors='coerce')\n",
    "data['Time'].fillna(data['Time'].median(), inplace=True)"
   ]
  },
  {
   "cell_type": "code",
   "execution_count": 396,
   "metadata": {},
   "outputs": [
    {
     "name": "stdout",
     "output_type": "stream",
     "text": [
      "0\n"
     ]
    }
   ],
   "source": [
    "missing_values_date = data['Time'].isnull().sum()\n",
    "print(missing_values_date)"
   ]
  },
  {
   "cell_type": "markdown",
   "metadata": {},
   "source": [
    "### Dropping the rows that have missing values of location because, 1 cant be replace and they are too less"
   ]
  },
  {
   "cell_type": "code",
   "execution_count": 397,
   "metadata": {},
   "outputs": [],
   "source": [
    "data.dropna(subset=['Location'], inplace=True)\n"
   ]
  },
  {
   "cell_type": "code",
   "execution_count": 398,
   "metadata": {},
   "outputs": [
    {
     "name": "stdout",
     "output_type": "stream",
     "text": [
      "0\n"
     ]
    }
   ],
   "source": [
    "missing_values_location = data['Time'].isnull().sum()\n",
    "print(missing_values_location)"
   ]
  },
  {
   "cell_type": "code",
   "execution_count": 399,
   "metadata": {},
   "outputs": [
    {
     "name": "stdout",
     "output_type": "stream",
     "text": [
      "<class 'pandas.core.indexes.base.Index'>\n"
     ]
    }
   ],
   "source": [
    "print(type(data.columns))"
   ]
  },
  {
   "cell_type": "markdown",
   "metadata": {},
   "source": [
    "### How many unique operators? "
   ]
  },
  {
   "cell_type": "code",
   "execution_count": 400,
   "metadata": {},
   "outputs": [
    {
     "name": "stdout",
     "output_type": "stream",
     "text": [
      "2472\n"
     ]
    }
   ],
   "source": [
    "print(len(data['Operator'].unique()) )"
   ]
  },
  {
   "cell_type": "code",
   "execution_count": 401,
   "metadata": {},
   "outputs": [
    {
     "name": "stdout",
     "output_type": "stream",
     "text": [
      "3238\n"
     ]
    }
   ],
   "source": [
    "print(len(data['Route'].unique()))"
   ]
  },
  {
   "cell_type": "code",
   "execution_count": 402,
   "metadata": {},
   "outputs": [
    {
     "name": "stdout",
     "output_type": "stream",
     "text": [
      "724\n"
     ]
    }
   ],
   "source": [
    "print(len(data['Flight #'].unique()) )"
   ]
  },
  {
   "cell_type": "markdown",
   "metadata": {},
   "source": [
    "Ground            22\n"
   ]
  },
  {
   "cell_type": "code",
   "execution_count": 403,
   "metadata": {},
   "outputs": [
    {
     "name": "stdout",
     "output_type": "stream",
     "text": [
      "Missing ground values  21\n",
      "Missing ground values  0\n"
     ]
    }
   ],
   "source": [
    "missing_values_ground = data['Ground'].isnull().sum()\n",
    "print(\"Missing ground values \" ,missing_values_ground)\n",
    "\n",
    "data['Ground'].fillna(data['Ground'].mean(), inplace=True)\n",
    "\n",
    "missing_values_ground = data['Ground'].isnull().sum()\n",
    "print(\"Missing ground values \" , missing_values_ground)"
   ]
  },
  {
   "cell_type": "code",
   "execution_count": 404,
   "metadata": {},
   "outputs": [
    {
     "name": "stdout",
     "output_type": "stream",
     "text": [
      "Missing fatalities values  11\n",
      "Missing Fatalities values  0\n"
     ]
    }
   ],
   "source": [
    "missing_values_fatalities = data['Fatalities'].isnull().sum()\n",
    "print(\"Missing fatalities values \" ,missing_values_fatalities)\n",
    "\n",
    "data['Fatalities'].fillna(data['Fatalities'].mean(), inplace=True)\n",
    "\n",
    "missing_values_fatalities = data['Fatalities'].isnull().sum()\n",
    "print(\"Missing Fatalities values \" , missing_values_fatalities)"
   ]
  },
  {
   "cell_type": "code",
   "execution_count": 405,
   "metadata": {},
   "outputs": [
    {
     "name": "stdout",
     "output_type": "stream",
     "text": [
      "Missing Aboard values  21\n",
      "Missing Aboard values  0\n"
     ]
    }
   ],
   "source": [
    "missing_values_Aboard = data['Aboard'].isnull().sum()\n",
    "print(\"Missing Aboard values \" ,missing_values_Aboard)\n",
    "\n",
    "data['Aboard'].fillna(data['Aboard'].mean(), inplace=True)\n",
    "\n",
    "missing_values_Aboard = data['Aboard'].isnull().sum()\n",
    "print(\"Missing Aboard values \" , missing_values_Aboard)"
   ]
  },
  {
   "cell_type": "code",
   "execution_count": 406,
   "metadata": {},
   "outputs": [
    {
     "name": "stdout",
     "output_type": "stream",
     "text": [
      "Missing Type values  27\n"
     ]
    }
   ],
   "source": [
    "missing_values_Type = data['Type'].isnull().sum()\n",
    "print(\"Missing Type values \" ,missing_values_Type)\n",
    "\n",
    "\n",
    "\n",
    "\n",
    "\n",
    "\n",
    "\n",
    "\n"
   ]
  },
  {
   "cell_type": "code",
   "execution_count": 407,
   "metadata": {},
   "outputs": [
    {
     "name": "stdout",
     "output_type": "stream",
     "text": [
      "Missing ground values  0\n",
      "Missing ground values  0\n"
     ]
    }
   ],
   "source": [
    "missing_values_ground = data['Ground'].isnull().sum()\n",
    "print(\"Missing ground values \" ,missing_values_ground)\n",
    "\n",
    "data['Ground'].fillna(data['Ground'].mean(), inplace=True)\n",
    "\n",
    "missing_values_ground = data['Ground'].isnull().sum()\n",
    "print(\"Missing ground values \" , missing_values_ground)"
   ]
  },
  {
   "cell_type": "code",
   "execution_count": 408,
   "metadata": {},
   "outputs": [
    {
     "ename": "TypeError",
     "evalue": "could not convert string to float: '-'",
     "output_type": "error",
     "traceback": [
      "\u001b[1;31m---------------------------------------------------------------------------\u001b[0m",
      "\u001b[1;31mValueError\u001b[0m                                Traceback (most recent call last)",
      "File \u001b[1;32mc:\\Users\\Chief Engineer (C)\\anaconda3\\lib\\site-packages\\pandas\\core\\nanops.py:786\u001b[0m, in \u001b[0;36mnanmedian\u001b[1;34m(values, axis, skipna, mask)\u001b[0m\n\u001b[0;32m    785\u001b[0m \u001b[39mtry\u001b[39;00m:\n\u001b[1;32m--> 786\u001b[0m     values \u001b[39m=\u001b[39m values\u001b[39m.\u001b[39;49mastype(\u001b[39m\"\u001b[39;49m\u001b[39mf8\u001b[39;49m\u001b[39m\"\u001b[39;49m)\n\u001b[0;32m    787\u001b[0m \u001b[39mexcept\u001b[39;00m \u001b[39mValueError\u001b[39;00m \u001b[39mas\u001b[39;00m err:\n\u001b[0;32m    788\u001b[0m     \u001b[39m# e.g. \"could not convert string to float: 'a'\"\u001b[39;00m\n",
      "\u001b[1;31mValueError\u001b[0m: could not convert string to float: '-'",
      "\nThe above exception was the direct cause of the following exception:\n",
      "\u001b[1;31mTypeError\u001b[0m                                 Traceback (most recent call last)",
      "\u001b[1;32mc:\\Users\\Chief Engineer (C)\\Documents\\GitHub\\MachineLearning-CSE543\\Assignment2\\Unsupervised.ipynb Cell 24\u001b[0m line \u001b[0;36m6\n\u001b[0;32m      <a href='vscode-notebook-cell:/c%3A/Users/Chief%20Engineer%20%28C%29/Documents/GitHub/MachineLearning-CSE543/Assignment2/Unsupervised.ipynb#X36sZmlsZQ%3D%3D?line=2'>3</a>\u001b[0m \u001b[39m# Assuming you have a DataFrame 'data'\u001b[39;00m\n\u001b[0;32m      <a href='vscode-notebook-cell:/c%3A/Users/Chief%20Engineer%20%28C%29/Documents/GitHub/MachineLearning-CSE543/Assignment2/Unsupervised.ipynb#X36sZmlsZQ%3D%3D?line=3'>4</a>\u001b[0m \u001b[39m# Impute numeric columns with the median\u001b[39;00m\n\u001b[0;32m      <a href='vscode-notebook-cell:/c%3A/Users/Chief%20Engineer%20%28C%29/Documents/GitHub/MachineLearning-CSE543/Assignment2/Unsupervised.ipynb#X36sZmlsZQ%3D%3D?line=4'>5</a>\u001b[0m numeric_cols \u001b[39m=\u001b[39m [\u001b[39m'\u001b[39m\u001b[39mFlight #\u001b[39m\u001b[39m'\u001b[39m, \u001b[39m'\u001b[39m\u001b[39mRoute\u001b[39m\u001b[39m'\u001b[39m, \u001b[39m'\u001b[39m\u001b[39mRegistration\u001b[39m\u001b[39m'\u001b[39m, \u001b[39m'\u001b[39m\u001b[39mcn/In\u001b[39m\u001b[39m'\u001b[39m]\n\u001b[1;32m----> <a href='vscode-notebook-cell:/c%3A/Users/Chief%20Engineer%20%28C%29/Documents/GitHub/MachineLearning-CSE543/Assignment2/Unsupervised.ipynb#X36sZmlsZQ%3D%3D?line=5'>6</a>\u001b[0m data[numeric_cols] \u001b[39m=\u001b[39m data[numeric_cols]\u001b[39m.\u001b[39mfillna(data[numeric_cols]\u001b[39m.\u001b[39;49mmedian())\n",
      "File \u001b[1;32mc:\\Users\\Chief Engineer (C)\\anaconda3\\lib\\site-packages\\pandas\\core\\generic.py:11623\u001b[0m, in \u001b[0;36mNDFrame._add_numeric_operations.<locals>.median\u001b[1;34m(self, axis, skipna, numeric_only, **kwargs)\u001b[0m\n\u001b[0;32m  11606\u001b[0m \u001b[39m@doc\u001b[39m(\n\u001b[0;32m  11607\u001b[0m     _num_doc,\n\u001b[0;32m  11608\u001b[0m     desc\u001b[39m=\u001b[39m\u001b[39m\"\u001b[39m\u001b[39mReturn the median of the values over the requested axis.\u001b[39m\u001b[39m\"\u001b[39m,\n\u001b[1;32m   (...)\u001b[0m\n\u001b[0;32m  11621\u001b[0m     \u001b[39m*\u001b[39m\u001b[39m*\u001b[39mkwargs,\n\u001b[0;32m  11622\u001b[0m ):\n\u001b[1;32m> 11623\u001b[0m     \u001b[39mreturn\u001b[39;00m NDFrame\u001b[39m.\u001b[39mmedian(\u001b[39mself\u001b[39m, axis, skipna, numeric_only, \u001b[39m*\u001b[39m\u001b[39m*\u001b[39mkwargs)\n",
      "File \u001b[1;32mc:\\Users\\Chief Engineer (C)\\anaconda3\\lib\\site-packages\\pandas\\core\\generic.py:11212\u001b[0m, in \u001b[0;36mNDFrame.median\u001b[1;34m(self, axis, skipna, numeric_only, **kwargs)\u001b[0m\n\u001b[0;32m  11205\u001b[0m \u001b[39mdef\u001b[39;00m \u001b[39mmedian\u001b[39m(\n\u001b[0;32m  11206\u001b[0m     \u001b[39mself\u001b[39m,\n\u001b[0;32m  11207\u001b[0m     axis: Axis \u001b[39m|\u001b[39m \u001b[39mNone\u001b[39;00m \u001b[39m=\u001b[39m \u001b[39m0\u001b[39m,\n\u001b[1;32m   (...)\u001b[0m\n\u001b[0;32m  11210\u001b[0m     \u001b[39m*\u001b[39m\u001b[39m*\u001b[39mkwargs,\n\u001b[0;32m  11211\u001b[0m ) \u001b[39m-\u001b[39m\u001b[39m>\u001b[39m Series \u001b[39m|\u001b[39m \u001b[39mfloat\u001b[39m:\n\u001b[1;32m> 11212\u001b[0m     \u001b[39mreturn\u001b[39;00m \u001b[39mself\u001b[39m\u001b[39m.\u001b[39m_stat_function(\n\u001b[0;32m  11213\u001b[0m         \u001b[39m\"\u001b[39m\u001b[39mmedian\u001b[39m\u001b[39m\"\u001b[39m, nanops\u001b[39m.\u001b[39mnanmedian, axis, skipna, numeric_only, \u001b[39m*\u001b[39m\u001b[39m*\u001b[39mkwargs\n\u001b[0;32m  11214\u001b[0m     )\n",
      "File \u001b[1;32mc:\\Users\\Chief Engineer (C)\\anaconda3\\lib\\site-packages\\pandas\\core\\generic.py:11158\u001b[0m, in \u001b[0;36mNDFrame._stat_function\u001b[1;34m(self, name, func, axis, skipna, numeric_only, **kwargs)\u001b[0m\n\u001b[0;32m  11154\u001b[0m     nv\u001b[39m.\u001b[39mvalidate_stat_func((), kwargs, fname\u001b[39m=\u001b[39mname)\n\u001b[0;32m  11156\u001b[0m validate_bool_kwarg(skipna, \u001b[39m\"\u001b[39m\u001b[39mskipna\u001b[39m\u001b[39m\"\u001b[39m, none_allowed\u001b[39m=\u001b[39m\u001b[39mFalse\u001b[39;00m)\n\u001b[1;32m> 11158\u001b[0m \u001b[39mreturn\u001b[39;00m \u001b[39mself\u001b[39;49m\u001b[39m.\u001b[39;49m_reduce(\n\u001b[0;32m  11159\u001b[0m     func, name\u001b[39m=\u001b[39;49mname, axis\u001b[39m=\u001b[39;49maxis, skipna\u001b[39m=\u001b[39;49mskipna, numeric_only\u001b[39m=\u001b[39;49mnumeric_only\n\u001b[0;32m  11160\u001b[0m )\n",
      "File \u001b[1;32mc:\\Users\\Chief Engineer (C)\\anaconda3\\lib\\site-packages\\pandas\\core\\frame.py:10524\u001b[0m, in \u001b[0;36mDataFrame._reduce\u001b[1;34m(self, op, name, axis, skipna, numeric_only, filter_type, **kwds)\u001b[0m\n\u001b[0;32m  10520\u001b[0m     df \u001b[39m=\u001b[39m df\u001b[39m.\u001b[39mT\n\u001b[0;32m  10522\u001b[0m \u001b[39m# After possibly _get_data and transposing, we are now in the\u001b[39;00m\n\u001b[0;32m  10523\u001b[0m \u001b[39m#  simple case where we can use BlockManager.reduce\u001b[39;00m\n\u001b[1;32m> 10524\u001b[0m res \u001b[39m=\u001b[39m df\u001b[39m.\u001b[39;49m_mgr\u001b[39m.\u001b[39;49mreduce(blk_func)\n\u001b[0;32m  10525\u001b[0m out \u001b[39m=\u001b[39m df\u001b[39m.\u001b[39m_constructor(res)\u001b[39m.\u001b[39miloc[\u001b[39m0\u001b[39m]\n\u001b[0;32m  10526\u001b[0m \u001b[39mif\u001b[39;00m out_dtype \u001b[39mis\u001b[39;00m \u001b[39mnot\u001b[39;00m \u001b[39mNone\u001b[39;00m:\n",
      "File \u001b[1;32mc:\\Users\\Chief Engineer (C)\\anaconda3\\lib\\site-packages\\pandas\\core\\internals\\managers.py:1534\u001b[0m, in \u001b[0;36mBlockManager.reduce\u001b[1;34m(self, func)\u001b[0m\n\u001b[0;32m   1532\u001b[0m res_blocks: \u001b[39mlist\u001b[39m[Block] \u001b[39m=\u001b[39m []\n\u001b[0;32m   1533\u001b[0m \u001b[39mfor\u001b[39;00m blk \u001b[39min\u001b[39;00m \u001b[39mself\u001b[39m\u001b[39m.\u001b[39mblocks:\n\u001b[1;32m-> 1534\u001b[0m     nbs \u001b[39m=\u001b[39m blk\u001b[39m.\u001b[39;49mreduce(func)\n\u001b[0;32m   1535\u001b[0m     res_blocks\u001b[39m.\u001b[39mextend(nbs)\n\u001b[0;32m   1537\u001b[0m index \u001b[39m=\u001b[39m Index([\u001b[39mNone\u001b[39;00m])  \u001b[39m# placeholder\u001b[39;00m\n",
      "File \u001b[1;32mc:\\Users\\Chief Engineer (C)\\anaconda3\\lib\\site-packages\\pandas\\core\\internals\\blocks.py:339\u001b[0m, in \u001b[0;36mBlock.reduce\u001b[1;34m(self, func)\u001b[0m\n\u001b[0;32m    333\u001b[0m \u001b[39m@final\u001b[39m\n\u001b[0;32m    334\u001b[0m \u001b[39mdef\u001b[39;00m \u001b[39mreduce\u001b[39m(\u001b[39mself\u001b[39m, func) \u001b[39m-\u001b[39m\u001b[39m>\u001b[39m \u001b[39mlist\u001b[39m[Block]:\n\u001b[0;32m    335\u001b[0m     \u001b[39m# We will apply the function and reshape the result into a single-row\u001b[39;00m\n\u001b[0;32m    336\u001b[0m     \u001b[39m#  Block with the same mgr_locs; squeezing will be done at a higher level\u001b[39;00m\n\u001b[0;32m    337\u001b[0m     \u001b[39massert\u001b[39;00m \u001b[39mself\u001b[39m\u001b[39m.\u001b[39mndim \u001b[39m==\u001b[39m \u001b[39m2\u001b[39m\n\u001b[1;32m--> 339\u001b[0m     result \u001b[39m=\u001b[39m func(\u001b[39mself\u001b[39;49m\u001b[39m.\u001b[39;49mvalues)\n\u001b[0;32m    341\u001b[0m     \u001b[39mif\u001b[39;00m \u001b[39mself\u001b[39m\u001b[39m.\u001b[39mvalues\u001b[39m.\u001b[39mndim \u001b[39m==\u001b[39m \u001b[39m1\u001b[39m:\n\u001b[0;32m    342\u001b[0m         \u001b[39m# TODO(EA2D): special case not needed with 2D EAs\u001b[39;00m\n\u001b[0;32m    343\u001b[0m         res_values \u001b[39m=\u001b[39m np\u001b[39m.\u001b[39marray([[result]])\n",
      "File \u001b[1;32mc:\\Users\\Chief Engineer (C)\\anaconda3\\lib\\site-packages\\pandas\\core\\frame.py:10487\u001b[0m, in \u001b[0;36mDataFrame._reduce.<locals>.blk_func\u001b[1;34m(values, axis)\u001b[0m\n\u001b[0;32m  10485\u001b[0m     \u001b[39mreturn\u001b[39;00m values\u001b[39m.\u001b[39m_reduce(name, skipna\u001b[39m=\u001b[39mskipna, \u001b[39m*\u001b[39m\u001b[39m*\u001b[39mkwds)\n\u001b[0;32m  10486\u001b[0m \u001b[39melse\u001b[39;00m:\n\u001b[1;32m> 10487\u001b[0m     \u001b[39mreturn\u001b[39;00m op(values, axis\u001b[39m=\u001b[39maxis, skipna\u001b[39m=\u001b[39mskipna, \u001b[39m*\u001b[39m\u001b[39m*\u001b[39mkwds)\n",
      "File \u001b[1;32mc:\\Users\\Chief Engineer (C)\\anaconda3\\lib\\site-packages\\pandas\\core\\nanops.py:158\u001b[0m, in \u001b[0;36mbottleneck_switch.__call__.<locals>.f\u001b[1;34m(values, axis, skipna, **kwds)\u001b[0m\n\u001b[0;32m    156\u001b[0m         result \u001b[39m=\u001b[39m alt(values, axis\u001b[39m=\u001b[39maxis, skipna\u001b[39m=\u001b[39mskipna, \u001b[39m*\u001b[39m\u001b[39m*\u001b[39mkwds)\n\u001b[0;32m    157\u001b[0m \u001b[39melse\u001b[39;00m:\n\u001b[1;32m--> 158\u001b[0m     result \u001b[39m=\u001b[39m alt(values, axis\u001b[39m=\u001b[39maxis, skipna\u001b[39m=\u001b[39mskipna, \u001b[39m*\u001b[39m\u001b[39m*\u001b[39mkwds)\n\u001b[0;32m    160\u001b[0m \u001b[39mreturn\u001b[39;00m result\n",
      "File \u001b[1;32mc:\\Users\\Chief Engineer (C)\\anaconda3\\lib\\site-packages\\pandas\\core\\nanops.py:789\u001b[0m, in \u001b[0;36mnanmedian\u001b[1;34m(values, axis, skipna, mask)\u001b[0m\n\u001b[0;32m    786\u001b[0m         values \u001b[39m=\u001b[39m values\u001b[39m.\u001b[39mastype(\u001b[39m\"\u001b[39m\u001b[39mf8\u001b[39m\u001b[39m\"\u001b[39m)\n\u001b[0;32m    787\u001b[0m     \u001b[39mexcept\u001b[39;00m \u001b[39mValueError\u001b[39;00m \u001b[39mas\u001b[39;00m err:\n\u001b[0;32m    788\u001b[0m         \u001b[39m# e.g. \"could not convert string to float: 'a'\"\u001b[39;00m\n\u001b[1;32m--> 789\u001b[0m         \u001b[39mraise\u001b[39;00m \u001b[39mTypeError\u001b[39;00m(\u001b[39mstr\u001b[39m(err)) \u001b[39mfrom\u001b[39;00m \u001b[39merr\u001b[39;00m\n\u001b[0;32m    790\u001b[0m \u001b[39mif\u001b[39;00m mask \u001b[39mis\u001b[39;00m \u001b[39mnot\u001b[39;00m \u001b[39mNone\u001b[39;00m:\n\u001b[0;32m    791\u001b[0m     values[mask] \u001b[39m=\u001b[39m np\u001b[39m.\u001b[39mnan\n",
      "\u001b[1;31mTypeError\u001b[0m: could not convert string to float: '-'"
     ]
    }
   ],
   "source": []
  },
  {
   "cell_type": "code",
   "execution_count": null,
   "metadata": {},
   "outputs": [
    {
     "name": "stdout",
     "output_type": "stream",
     "text": [
      "Missing values in each column:\n",
      "Date               0\n",
      "Time               0\n",
      "Location           0\n",
      "Operator          17\n",
      "Flight #        4181\n",
      "Route           1695\n",
      "Type              27\n",
      "Registration     331\n",
      "cn/In           1220\n",
      "Aboard             0\n",
      "Fatalities         0\n",
      "Ground             0\n",
      "Summary          383\n",
      "dtype: int64\n"
     ]
    }
   ],
   "source": [
    "missing_values_X = data[columns].isnull().sum()\n",
    "\n",
    "# Check for missing values in 'y'\n",
    "\n",
    "print(\"Missing values in each column:\")\n",
    "print(missing_values_X)"
   ]
  }
 ],
 "metadata": {
  "kernelspec": {
   "display_name": "base",
   "language": "python",
   "name": "python3"
  },
  "language_info": {
   "codemirror_mode": {
    "name": "ipython",
    "version": 3
   },
   "file_extension": ".py",
   "mimetype": "text/x-python",
   "name": "python",
   "nbconvert_exporter": "python",
   "pygments_lexer": "ipython3",
   "version": "3.10.9"
  },
  "orig_nbformat": 4
 },
 "nbformat": 4,
 "nbformat_minor": 2
}
